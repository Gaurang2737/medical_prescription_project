{
 "cells": [
  {
   "cell_type": "code",
   "execution_count": 34,
   "id": "68904cd6",
   "metadata": {},
   "outputs": [],
   "source": [
    "from pdf2image import convert_from_path"
   ]
  },
  {
   "cell_type": "code",
   "execution_count": 35,
   "id": "f5c5c163",
   "metadata": {},
   "outputs": [],
   "source": [
    "pages = convert_from_path(r'docs/prescription/pre_2.pdf',poppler_path=r\"C:\\poppler-23.11.0\\Library\\bin\")"
   ]
  },
  {
   "cell_type": "code",
   "execution_count": 36,
   "id": "dfe0dbf1",
   "metadata": {},
   "outputs": [
    {
     "data": {
      "text/plain": [
       "1"
      ]
     },
     "execution_count": 36,
     "metadata": {},
     "output_type": "execute_result"
    }
   ],
   "source": [
    "len(pages)"
   ]
  },
  {
   "cell_type": "code",
   "execution_count": 37,
   "id": "295ead1c",
   "metadata": {},
   "outputs": [],
   "source": [
    "pages[0].show()"
   ]
  },
  {
   "cell_type": "code",
   "execution_count": 38,
   "id": "d14a35c5",
   "metadata": {},
   "outputs": [],
   "source": [
    "import pytesseract"
   ]
  },
  {
   "cell_type": "code",
   "execution_count": 39,
   "id": "91be6591",
   "metadata": {},
   "outputs": [
    {
     "name": "stdout",
     "output_type": "stream",
     "text": [
      "Refill: 3 times\n",
      "\n",
      "\n"
     ]
    }
   ],
   "source": [
    "for page in pages:\n",
    "    pytesseract.pytesseract.tesseract_cmd=r\"C:\\Program Files\\Tesseract-OCR\\tesseract.exe\"\n",
    "    text=pytesseract.image_to_string(pages[0],lang=\"eng\")\n",
    "print(text)"
   ]
  },
  {
   "cell_type": "code",
   "execution_count": 40,
   "id": "6ec6cdd0",
   "metadata": {},
   "outputs": [],
   "source": [
    "import numpy as np\n",
    "import cv2\n",
    "from PIL import Image"
   ]
  },
  {
   "cell_type": "code",
   "execution_count": 41,
   "id": "1be04e82",
   "metadata": {},
   "outputs": [],
   "source": [
    "def processing_image(img):\n",
    "    gray_img = cv2.cvtColor(np.array(img),cv2.COLOR_BGR2GRAY)\n",
    "    resized_img = cv2.resize(gray_img,None,fx=1.5,fy=1.5,interpolation=cv2.INTER_LINEAR)\n",
    "    processed_img = cv2.adaptiveThreshold(\n",
    "        resized_img,\n",
    "        255,\n",
    "        cv2.ADAPTIVE_THRESH_GAUSSIAN_C,\n",
    "        cv2.THRESH_BINARY,\n",
    "        61,\n",
    "        15\n",
    "    )\n",
    "    return processed_img"
   ]
  },
  {
   "cell_type": "code",
   "execution_count": 42,
   "id": "2aa6b232",
   "metadata": {},
   "outputs": [],
   "source": [
    "img = processing_image(pages[0])\n",
    "Image.fromarray(img).show()"
   ]
  },
  {
   "cell_type": "code",
   "execution_count": 43,
   "id": "ce60ee7a",
   "metadata": {},
   "outputs": [
    {
     "name": "stdout",
     "output_type": "stream",
     "text": [
      "Dr John 2mith, M.D\n",
      "\n",
      "2 Non-Important street,\n",
      "New York, Phone (909)- ~111-2222\n",
      "\n",
      "Name:  Virat Kohli Date: 2/05/2022\n",
      "\n",
      "Address: 2 cricket blvd, New Delhi\n",
      "\n",
      "Ke\n",
      "\n",
      "| Omeprazole 40 meg\n",
      "\n",
      "Directions: Use two tablets daily for three months\n",
      "\n",
      "Refill: 3 times\n",
      "\n"
     ]
    }
   ],
   "source": [
    "pytesseract.pytesseract.tesseract_cmd=r\"C:\\Program Files\\Tesseract-OCR\\tesseract.exe\"\n",
    "text=pytesseract.image_to_string(img,lang=\"eng\")\n",
    "print(text)"
   ]
  },
  {
   "cell_type": "code",
   "execution_count": null,
   "id": "ff1fddc7",
   "metadata": {},
   "outputs": [],
   "source": []
  }
 ],
 "metadata": {
  "kernelspec": {
   "display_name": "Python 3 (ipykernel)",
   "language": "python",
   "name": "python3"
  },
  "language_info": {
   "codemirror_mode": {
    "name": "ipython",
    "version": 3
   },
   "file_extension": ".py",
   "mimetype": "text/x-python",
   "name": "python",
   "nbconvert_exporter": "python",
   "pygments_lexer": "ipython3",
   "version": "3.11.4"
  }
 },
 "nbformat": 4,
 "nbformat_minor": 5
}
